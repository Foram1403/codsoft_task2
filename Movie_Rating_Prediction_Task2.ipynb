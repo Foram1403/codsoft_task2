{
  "nbformat": 4,
  "nbformat_minor": 0,
  "metadata": {
    "colab": {
      "provenance": []
    },
    "kernelspec": {
      "name": "python3",
      "display_name": "Python 3"
    },
    "language_info": {
      "name": "python"
    }
  },
  "cells": [
    {
      "cell_type": "markdown",
      "source": [
        "# Loading the libraries"
      ],
      "metadata": {
        "id": "-4Uq9uoNZ9TG"
      }
    },
    {
      "cell_type": "code",
      "source": [
        "import pandas as pd\n",
        "import numpy as np\n",
        "import matplotlib.pyplot as plt\n",
        "import seaborn as sns\n",
        "from sklearn.linear_model import LogisticRegression\n",
        "from sklearn.metrics import accuracy_score, confusion_matrix, classification_report\n",
        "from sklearn.model_selection import train_test_split, cross_val_score\n",
        "from sklearn.linear_model import LinearRegression\n",
        "from sklearn.tree import DecisionTreeRegressor\n",
        "from sklearn.ensemble import RandomForestRegressor\n",
        "from sklearn.metrics import mean_squared_error, r2_score\n",
        "from sklearn.preprocessing import StandardScaler\n",
        "from sklearn.model_selection import GridSearchCV"
      ],
      "metadata": {
        "id": "kGkDcjlcyXlJ"
      },
      "execution_count": null,
      "outputs": []
    },
    {
      "cell_type": "markdown",
      "source": [
        "# Load the data"
      ],
      "metadata": {
        "id": "sRahBVFmaCa1"
      }
    },
    {
      "cell_type": "code",
      "source": [
        "MP = pd.read_csv('/content/IMDb Movies India.csv',encoding='ISO-8859-1')"
      ],
      "metadata": {
        "id": "dURSlMR5yYA1"
      },
      "execution_count": null,
      "outputs": []
    },
    {
      "cell_type": "markdown",
      "source": [
        "# Data Pre-Processing\n"
      ],
      "metadata": {
        "id": "v9YZH6iBUw2x"
      }
    },
    {
      "cell_type": "markdown",
      "source": [
        "**Handling Missing Values**"
      ],
      "metadata": {
        "id": "GUAi5991ZhRL"
      }
    },
    {
      "cell_type": "code",
      "source": [
        "print(MP.isnull().sum())"
      ],
      "metadata": {
        "colab": {
          "base_uri": "https://localhost:8080/"
        },
        "id": "2qhwzHcVUwir",
        "outputId": "d7c2831f-2f0c-4bbe-e6a4-9bcb99bfc4b7"
      },
      "execution_count": null,
      "outputs": [
        {
          "output_type": "stream",
          "name": "stdout",
          "text": [
            "Name           0\n",
            "Year         528\n",
            "Duration    8269\n",
            "Genre       1877\n",
            "Rating      7590\n",
            "Votes       7589\n",
            "Director     525\n",
            "Actor 1     1617\n",
            "Actor 2     2384\n",
            "Actor 3     3144\n",
            "dtype: int64\n"
          ]
        }
      ]
    },
    {
      "cell_type": "code",
      "source": [
        "# Drop rows with missing ratings since its the target variable\n",
        "MP = MP.dropna(subset=['Rating'])"
      ],
      "metadata": {
        "id": "vDWPqRzEZp8_"
      },
      "execution_count": null,
      "outputs": []
    },
    {
      "cell_type": "code",
      "source": [
        "# Fill Other Missing Values with a Placeholder or drop them based on requirements\n",
        "MP['Genre'] = MP['Genre'].fillna('Unknown')\n",
        "MP['Director'] = MP['Director'].fillna('Unknown')\n",
        "MP['Duration'] = pd.to_numeric(MP['Duration'].str.extract('(\\d+)').squeeze(), errors='coerce')\n",
        "MP['Duration'] = MP['Duration'].fillna(MP['Duration'].median())"
      ],
      "metadata": {
        "id": "b8yimmMJZp5Y",
        "colab": {
          "base_uri": "https://localhost:8080/"
        },
        "outputId": "bedc20f7-4a20-4b14-f036-2f3f7b30ea08"
      },
      "execution_count": null,
      "outputs": [
        {
          "output_type": "stream",
          "name": "stderr",
          "text": [
            "<ipython-input-5-8814d192d83d>:2: SettingWithCopyWarning: \n",
            "A value is trying to be set on a copy of a slice from a DataFrame.\n",
            "Try using .loc[row_indexer,col_indexer] = value instead\n",
            "\n",
            "See the caveats in the documentation: https://pandas.pydata.org/pandas-docs/stable/user_guide/indexing.html#returning-a-view-versus-a-copy\n",
            "  MP['Genre'] = MP['Genre'].fillna('Unknown')\n",
            "<ipython-input-5-8814d192d83d>:3: SettingWithCopyWarning: \n",
            "A value is trying to be set on a copy of a slice from a DataFrame.\n",
            "Try using .loc[row_indexer,col_indexer] = value instead\n",
            "\n",
            "See the caveats in the documentation: https://pandas.pydata.org/pandas-docs/stable/user_guide/indexing.html#returning-a-view-versus-a-copy\n",
            "  MP['Director'] = MP['Director'].fillna('Unknown')\n"
          ]
        }
      ]
    },
    {
      "cell_type": "markdown",
      "source": [
        "# Data Cleaning"
      ],
      "metadata": {
        "id": "THi_VbTWbTzD"
      }
    },
    {
      "cell_type": "code",
      "source": [
        "# # Remove 'min' from 'Duration' and convert to numeric\n",
        "if MP['Duration'].dtype == object:\n",
        "    MP['Duration'] = pd.to_numeric(MP['Duration'].str.extract('(\\d+)').squeeze(), errors='coerce')\n",
        "\n",
        "# Remove commas from 'Votes' and convert to numeric\n",
        "MP['Votes'] = MP['Votes'].str.replace(',', '').astype(float)"
      ],
      "metadata": {
        "id": "Sr-DLkbDZp3E"
      },
      "execution_count": null,
      "outputs": []
    },
    {
      "cell_type": "markdown",
      "source": [
        "#Feature Engineering"
      ],
      "metadata": {
        "id": "2si3da5XcM-J"
      }
    },
    {
      "cell_type": "code",
      "source": [
        "# Data Preprocessing (Handle missing values as before)\n",
        "MP.dropna(subset=['Rating'], inplace=True)\n",
        "\n",
        "# One-hot encode Genre\n",
        "MP = pd.get_dummies(MP, columns=['Genre'], prefix=['Genre'])\n",
        "\n",
        "\n",
        "# Select features and target variable\n",
        "X = MP[['Genre_Action', 'Genre_Comedy', 'Genre_Drama',\n",
        "         # Add other relevant features here...\n",
        "         ]]\n",
        "y = MP['Rating']\n",
        "\n",
        "# Split data into training and testing sets\n",
        "X_train, X_test, y_train, y_test = train_test_split(X, y, test_size=0.2, random_state=42)\n",
        "\n",
        "# Feature Scaling\n",
        "scaler = StandardScaler()\n",
        "X_train = scaler.fit_transform(X_train)\n",
        "X_test = scaler.transform(X_test)\n",
        "\n",
        "# Model Building (Regression)\n",
        "\n",
        "# 1. Linear Regression with Cross-Validation\n",
        "model_lr = LinearRegression()\n",
        "cv_scores = cross_val_score(model_lr, X_train, y_train, cv=5, scoring='r2')\n",
        "print(f\"Linear Regression Cross-Validation R-squared: {np.mean(cv_scores)}\")\n",
        "\n",
        "model_lr.fit(X_train, y_train)\n",
        "y_pred_lr = model_lr.predict(X_test)\n",
        "mse_lr = mean_squared_error(y_test, y_pred_lr)\n",
        "r2_lr = r2_score(y_test, y_pred_lr)\n",
        "print(f\"Linear Regression - Mean Squared Error: {mse_lr}\")\n",
        "print(f\"Linear Regression - R-squared: {r2_lr}\")\n",
        "\n",
        "\n",
        "# 2. Random Forest Regression with Hyperparameter Tuning\n",
        "model_rf = RandomForestRegressor()\n",
        "param_grid = {\n",
        "    'n_estimators': [50, 100, 200],\n",
        "    'max_depth': [None, 10, 20],\n",
        "    'min_samples_split': [2, 5, 10]\n",
        "}\n",
        "grid_search = GridSearchCV(estimator=model_rf, param_grid=param_grid,\n",
        "                           cv=5, scoring='r2', n_jobs=-1)\n",
        "grid_search.fit(X_train, y_train)\n",
        "best_rf_model = grid_search.best_estimator_\n",
        "y_pred_rf = best_rf_model.predict(X_test)\n",
        "mse_rf = mean_squared_error(y_test, y_pred_rf)\n",
        "r2_rf = r2_score(y_test, y_pred_rf)\n",
        "print(f\"Random Forest - Mean Squared Error: {mse_rf}\")\n",
        "print(f\"Random Forest - R-squared: {r2_rf}\")\n",
        "\n",
        "# Compare and choose the best model based on performance metrics"
      ],
      "metadata": {
        "id": "dqqa0ADkz9Yv",
        "colab": {
          "base_uri": "https://localhost:8080/"
        },
        "outputId": "c0994b67-1457-4499-efb0-d616c93fff72"
      },
      "execution_count": null,
      "outputs": [
        {
          "output_type": "stream",
          "name": "stdout",
          "text": [
            "Linear Regression Cross-Validation R-squared: 0.029748968311637626\n",
            "Linear Regression - Mean Squared Error: 1.7563576495646047\n",
            "Linear Regression - R-squared: 0.05528750221319856\n",
            "Random Forest - Mean Squared Error: 1.7560802094257766\n",
            "Random Forest - R-squared: 0.055436732164514946\n"
          ]
        }
      ]
    },
    {
      "cell_type": "code",
      "source": [
        "# prompt: Compare and choose the best model based on performance metrics\n",
        "\n",
        "# Compare models based on R-squared and MSE\n",
        "if r2_lr > r2_rf and mse_lr < mse_rf:\n",
        "  print(\"Linear Regression is the best performing model.\")\n",
        "elif r2_rf > r2_lr and mse_rf < mse_lr:\n",
        "  print(\"Random Forest is the best performing model.\")\n",
        "else:\n",
        "  print(\"The models have comparable performance. Further analysis might be needed.\")\n",
        "\n",
        "# You can also consider other metrics like MAE or adjusted R-squared\n",
        "# for a more comprehensive evaluation.\n",
        "\n",
        "# Choose the best model based on the comparison\n",
        "best_model = model_lr if r2_lr > r2_rf else model_rf"
      ],
      "metadata": {
        "id": "Fh309y990G0b",
        "colab": {
          "base_uri": "https://localhost:8080/"
        },
        "outputId": "5b8d39f4-7509-47d2-cc6a-11a9242fc1e6"
      },
      "execution_count": null,
      "outputs": [
        {
          "output_type": "stream",
          "name": "stdout",
          "text": [
            "Random Forest is the best performing model.\n"
          ]
        }
      ]
    },
    {
      "cell_type": "code",
      "source": [
        "\n",
        "# Assuming 'best_model' is already defined (either model_lr or model_rf)\n",
        "# Create a new data point for prediction (replace with your actual data)\n",
        "new_data_point = pd.DataFrame({\n",
        "    'Genre_Action': [0],\n",
        "    'Genre_Comedy': [1],\n",
        "    'Genre_Drama': [0],\n",
        "    # Add other relevant features with values for your new data point\n",
        "})\n",
        "\n",
        "\n",
        "# Scale the new data point using the same scaler you used for training\n",
        "new_data_point_scaled = scaler.transform(new_data_point)\n",
        "\n",
        "\n",
        "# Compare models based on R-squared and MSE\n",
        "if r2_lr > r2_rf and mse_lr < mse_rf:\n",
        "  print(\"Linear Regression is the best performing model.\")\n",
        "  best_model = model_lr  # Assign the fitted model_lr\n",
        "elif r2_rf > r2_lr and mse_rf < mse_lr:\n",
        "  print(\"Random Forest is the best performing model.\")\n",
        "  best_model = best_rf_model # Assign the fitted best_rf_model\n",
        "else:\n",
        "  print(\"The models have comparable performance. Further analysis might be needed.\")\n",
        "  # Choose one of the models and assign it to best_model (e.g., best_model = model_lr)"
      ],
      "metadata": {
        "id": "_hE2iVgE0Rrp",
        "colab": {
          "base_uri": "https://localhost:8080/"
        },
        "outputId": "7d721b8d-c820-4e80-abe1-b9a99979ecdc"
      },
      "execution_count": null,
      "outputs": [
        {
          "output_type": "stream",
          "name": "stdout",
          "text": [
            "Random Forest is the best performing model.\n"
          ]
        }
      ]
    },
    {
      "cell_type": "code",
      "source": [],
      "metadata": {
        "id": "AWiI1v3SHdky"
      },
      "execution_count": null,
      "outputs": []
    }
  ]
}